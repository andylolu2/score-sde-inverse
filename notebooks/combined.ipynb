{
 "cells": [
  {
   "cell_type": "code",
   "execution_count": null,
   "id": "79af33593ea8ef62",
   "metadata": {
    "ExecuteTime": {
     "end_time": "2023-11-16T19:32:56.071428Z",
     "start_time": "2023-11-16T19:32:56.037667Z"
    },
    "collapsed": false
   },
   "outputs": [],
   "source": [
    "%load_ext autoreload\n",
    "%autoreload 2"
   ]
  },
  {
   "cell_type": "code",
   "execution_count": null,
   "metadata": {},
   "outputs": [],
   "source": [
    "import os\n",
    "\n",
    "os.chdir(\"..\")\n",
    "print(\"New Working Directory \", os.getcwd())"
   ]
  },
  {
   "cell_type": "code",
   "execution_count": null,
   "id": "initial_id",
   "metadata": {
    "ExecuteTime": {
     "end_time": "2023-11-16T19:33:00.888859Z",
     "start_time": "2023-11-16T19:32:56.062469Z"
    },
    "collapsed": true
   },
   "outputs": [],
   "source": [
    "import torch\n",
    "from PIL import Image\n",
    "import numpy as np\n",
    "\n",
    "from configs.ve.cifar10_ncsnpp_deep_continuous import get_config\n",
    "from score_inverse.models.utils import create_model\n",
    "from score_inverse.models.ema import ExponentialMovingAverage\n",
    "from score_inverse.tasks import CombinedTask, DeblurTask, ColorizationTask, DenoiseTask\n",
    "from score_inverse.datasets import CIFAR10\n",
    "from score_inverse.sde import get_sde\n",
    "from score_inverse.datasets.scalers import get_data_inverse_scaler, get_data_scaler\n",
    "from score_inverse.sampling import get_corrector, get_predictor\n",
    "from score_inverse.sampling.inverse import get_pc_inverse_solver"
   ]
  },
  {
   "cell_type": "code",
   "execution_count": null,
   "id": "18ad49c0138a331e",
   "metadata": {
    "ExecuteTime": {
     "end_time": "2023-11-16T19:33:07.408374Z",
     "start_time": "2023-11-16T19:33:00.891486Z"
    },
    "collapsed": false
   },
   "outputs": [],
   "source": [
    "config = get_config()\n",
    "device = \"cuda\" if torch.cuda.is_available() else \"cpu\"\n",
    "config.model.num_scales = 100\n",
    "config.eval.batch_size = 1\n",
    "\n",
    "ckpt_path = \"checkpoints/ve/cifar10_ncsnpp_deep_continuous/checkpoint_12.pth\"\n",
    "loaded_state = torch.load(ckpt_path, map_location=device)\n",
    "\n",
    "score_model = create_model(config)\n",
    "score_model.load_state_dict(loaded_state[\"model\"], strict=False)\n",
    "\n",
    "ema = ExponentialMovingAverage(score_model.parameters(), decay=config.model.ema_rate)\n",
    "ema.load_state_dict(loaded_state[\"ema\"])\n",
    "ema.copy_to(score_model.parameters())"
   ]
  },
  {
   "cell_type": "code",
   "execution_count": null,
   "id": "ff2308f6002a9efc",
   "metadata": {
    "ExecuteTime": {
     "end_time": "2023-11-16T19:33:07.467746Z",
     "start_time": "2023-11-16T19:33:07.410485Z"
    },
    "collapsed": false
   },
   "outputs": [],
   "source": [
    "def display_img(im, scale=10):\n",
    "    w, h = im.size\n",
    "    display(im.resize((scale * w, scale * h), Image.NEAREST))\n",
    "\n",
    "\n",
    "def display_sample(sample, scale=10, shape=None):\n",
    "    samples = np.clip(sample.permute(0, 2, 3, 1).cpu().numpy() * 255.0, 0, 255).astype(\n",
    "        np.uint8\n",
    "    )\n",
    "    if samples.shape[-1] == 1:\n",
    "        im = Image.fromarray(samples[0, :, :, 0])\n",
    "    else:\n",
    "        im = Image.fromarray(samples[0])\n",
    "    display_img(im, scale)"
   ]
  },
  {
   "cell_type": "code",
   "execution_count": null,
   "id": "eeeb8efba3da354f",
   "metadata": {
    "ExecuteTime": {
     "end_time": "2023-11-16T19:33:08.473391Z",
     "start_time": "2023-11-16T19:33:07.536830Z"
    },
    "collapsed": false
   },
   "outputs": [],
   "source": [
    "dataset = CIFAR10()"
   ]
  },
  {
   "cell_type": "code",
   "execution_count": null,
   "id": "75f63277f69ff58",
   "metadata": {
    "ExecuteTime": {
     "end_time": "2023-11-16T20:38:59.901967Z",
     "start_time": "2023-11-16T20:38:59.838555Z"
    },
    "collapsed": false
   },
   "outputs": [],
   "source": [
    "# deblur_task = DeblurTask(dataset.img_size, kernel_type=\"gaussian\", kernel_size=2)\n",
    "colorization_task = ColorizationTask(dataset.img_size)\n",
    "denoise_task = DenoiseTask(\n",
    "    colorization_task.output_shape, noise_type=\"shot\", severity=1\n",
    ")\n",
    "combined_task = CombinedTask([colorization_task, denoise_task]).to(config.device)"
   ]
  },
  {
   "cell_type": "code",
   "execution_count": null,
   "id": "f37825f05e5e9f1",
   "metadata": {
    "ExecuteTime": {
     "end_time": "2023-11-16T20:49:19.429711Z",
     "start_time": "2023-11-16T20:49:18.741408Z"
    },
    "collapsed": false
   },
   "outputs": [],
   "source": [
    "x = dataset[2]\n",
    "x = x[None, :].to(config.device)\n",
    "y = combined_task.forward(x)\n",
    "\n",
    "display_sample(x)\n",
    "display_sample(y)"
   ]
  },
  {
   "cell_type": "code",
   "execution_count": null,
   "id": "82dd1210f1251ae",
   "metadata": {
    "ExecuteTime": {
     "end_time": "2023-11-16T19:57:21.613760Z",
     "start_time": "2023-11-16T19:57:21.564184Z"
    },
    "collapsed": false
   },
   "outputs": [],
   "source": [
    "scaler = get_data_scaler(config)\n",
    "inverse_scaler = get_data_inverse_scaler(config)\n",
    "sde, sampling_eps = get_sde(config)\n",
    "\n",
    "sampling_shape = (\n",
    "    config.eval.batch_size,\n",
    "    config.data.num_channels,\n",
    "    config.data.image_size,\n",
    "    config.data.image_size,\n",
    ")\n",
    "predictor = get_predictor(config.sampling.predictor.lower())\n",
    "corrector = get_corrector(config.sampling.corrector.lower())\n",
    "sampling_fn = get_pc_inverse_solver(\n",
    "    sde=sde,\n",
    "    shape=sampling_shape,\n",
    "    predictor=predictor,\n",
    "    corrector=corrector,\n",
    "    inverse_scaler=inverse_scaler,\n",
    "    snr=config.sampling.snr,\n",
    "    n_steps=config.sampling.n_steps_each,\n",
    "    probability_flow=config.sampling.probability_flow,\n",
    "    continuous=config.training.continuous,\n",
    "    denoise=config.sampling.noise_removal,\n",
    "    eps=sampling_eps,\n",
    "    device=device,\n",
    "    inverse_task=combined_task,\n",
    "    lambda_=0.025,\n",
    ")"
   ]
  },
  {
   "cell_type": "code",
   "execution_count": null,
   "id": "b3d9fac754c79675",
   "metadata": {
    "ExecuteTime": {
     "end_time": "2023-11-16T19:59:39.720922Z",
     "start_time": "2023-11-16T19:57:22.455845Z"
    },
    "collapsed": false
   },
   "outputs": [],
   "source": [
    "sample, n = sampling_fn(score_model, y.to(device))\n",
    "display_sample(y)\n",
    "display_sample(sample)\n",
    "display_sample(x)"
   ]
  }
 ],
 "metadata": {
  "kernelspec": {
   "display_name": "Python 3",
   "language": "python",
   "name": "python3"
  },
  "language_info": {
   "codemirror_mode": {
    "name": "ipython",
    "version": 3
   },
   "file_extension": ".py",
   "mimetype": "text/x-python",
   "name": "python",
   "nbconvert_exporter": "python",
   "pygments_lexer": "ipython3",
   "version": "3.10.12"
  }
 },
 "nbformat": 4,
 "nbformat_minor": 5
}
