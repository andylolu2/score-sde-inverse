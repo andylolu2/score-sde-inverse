{
 "cells": [
  {
   "cell_type": "code",
   "execution_count": null,
   "outputs": [],
   "source": [
    "# Generate samples for 11 combinations of tasks on CIFAR-10\n",
    "!python scripts/generate_samples.py --task=sr_4x_noisy --save_dir=./logs/cifar/samples_sr_4x_noisy_poisson --noise_type=poisson\n",
    "!python scripts/generate_samples.py --task=sr_4x_noisy --save_dir=./logs/cifar/samples_sr_4x_noisy_gaussian --noise_type=gaussian\n",
    "!python scripts/generate_samples.py --task=sr_4x_noisy --save_dir=./logs/cifar/samples_sr_4x_noisy_poisson_opti --lambda_=0.045 --noise_type=poisson\n",
    "!python scripts/generate_samples.py --task=sr_4x_noisy --save_dir=./logs/cifar/samples_sr_4x_noisy_gaussian_opti --lambda_=0.045 --noise_type=gaussian\n",
    "!python scripts/generate_samples.py --task=deblur_colorise --save_dir=./logs/cifar/samples_deblur_colorise\n",
    "!python scripts/generate_samples.py --task=denoise_colorise --save_dir=./logs/cifar/samples_denoise_colorise_opti --lambda_=0.045\n",
    "!python scripts/generate_samples.py --task=denoise_colorise --save_dir=./logs/cifar/samples_denoise_colorise\n",
    "!python scripts/generate_samples.py --task=sr_4x_colorise --save_dir=./logs/cifar/samples_sr_4x_colorise\n",
    "!python scripts/generate_samples.py --task=sr_4x_deblur --save_dir=./logs/cifar/samples_sr_4x_deblur\n",
    "!python scripts/generate_samples.py --task=denoise_deblur --save_dir=./logs/cifar/samples_denoise_deblur\n",
    "!python scripts/generate_samples.py --task=denoise_deblur --save_dir=./logs/cifar/samples_denoise_deblur_opti --lambda_=0.045"
   ],
   "metadata": {
    "collapsed": false
   },
   "id": "initial_id"
  },
  {
   "cell_type": "code",
   "execution_count": null,
   "outputs": [],
   "source": [
    "!python scripts/compute_combined_metrics.py"
   ],
   "metadata": {
    "collapsed": false
   },
   "id": "a471a36c72b7a034"
  },
  {
   "cell_type": "code",
   "execution_count": null,
   "outputs": [],
   "source": [
    "import pandas as pd\n",
    "import matplotlib.pyplot as plt\n",
    "import seaborn as sns\n",
    "\n",
    "individual_df = pd.read_csv('metrics_output_individual.csv')\n",
    "aggregated_df = pd.read_csv('metrics_output_aggregated.csv')\n",
    "\n",
    "# Rename tasks to A, B, C, D, E, F, G, H, I, J, K\n",
    "task_rename_dict = {task: f'Task {chr(65+i)}' for i, task in enumerate(aggregated_df['task_name'].unique())}\n",
    "print(task_rename_dict)\n",
    "aggregated_df['task_name'] = aggregated_df['task_name'].map(task_rename_dict)\n",
    "individual_df['task_name'] = individual_df['task_name'].map(task_rename_dict)\n",
    "\n",
    "# Visualization for Individual Metrics\n",
    "plt.figure(figsize=(18, 6))\n",
    "for i, metric in enumerate(['ssim', 'psnr', 'lpips']):\n",
    "    plt.subplot(1, 3, i+1)\n",
    "    sns.scatterplot(data=individual_df, x='task_name', y=metric)\n",
    "    plt.title(f'Individual {metric.upper()} values')\n",
    "    plt.ylabel(f'{metric.upper()} Value')\n",
    "    plt.xlabel('Task')\n",
    "plt.tight_layout()\n",
    "plt.show()\n",
    "\n",
    "# Visualization for Aggregated Metrics (Bootstrap and Statistical)\n",
    "for metric in ['ssim', 'psnr', 'lpips']:\n",
    "    metric_df = aggregated_df[aggregated_df['metric'] == metric]\n",
    "    plt.figure(figsize=(15, 5))\n",
    "    plt.suptitle(f'Aggregated {metric.upper()} Metrics with Confidence Intervals')\n",
    "\n",
    "    # Bootstrap Aggregated Metrics\n",
    "    plt.subplot(1, 2, 1)\n",
    "    sns.barplot(x='task_name', y='bootstrap_mean', data=metric_df, color='skyblue')\n",
    "    plt.errorbar(x=range(len(metric_df)), y=metric_df['bootstrap_mean'],\n",
    "                 yerr=(metric_df['bootstrap_CI_upper'] - metric_df['bootstrap_CI_lower']) / 2,\n",
    "                 fmt='none', capsize=5, color='blue', label='95% CI (Bootstrap)')\n",
    "    plt.title('Bootstrap Aggregated Metrics')\n",
    "    plt.ylabel(f'{metric.upper()} Value')\n",
    "    plt.xlabel('Task')\n",
    "    plt.xticks(range(len(metric_df)), labels=metric_df['task_name'], rotation=45)\n",
    "    plt.legend()\n",
    "\n",
    "    # Statistical Aggregated Metrics\n",
    "    plt.subplot(1, 2, 2)\n",
    "    sns.barplot(x='task_name', y='mean', data=metric_df, color='salmon')\n",
    "    plt.errorbar(x=range(len(metric_df)), y=metric_df['mean'],\n",
    "                 yerr=(metric_df['statistical_CI_upper'] - metric_df['statistical_CI_lower']) / 2,\n",
    "                 fmt='none', capsize=5, color='green', label='95% CI (Statistical)')\n",
    "    plt.title('Statistical Aggregated Metrics')\n",
    "    plt.ylabel(f'{metric.upper()} Value')\n",
    "    plt.xlabel('Task')\n",
    "    plt.xticks(range(len(metric_df)), labels=metric_df['task_name'], rotation=45)\n",
    "    plt.legend()\n",
    "\n",
    "    plt.tight_layout(rect=[0, 0.03, 1, 0.95])\n",
    "    plt.show()"
   ],
   "metadata": {
    "collapsed": false
   },
   "id": "3574933009b7784"
  }
 ],
 "metadata": {
  "kernelspec": {
   "display_name": "Python 3",
   "language": "python",
   "name": "python3"
  },
  "language_info": {
   "codemirror_mode": {
    "name": "ipython",
    "version": 2
   },
   "file_extension": ".py",
   "mimetype": "text/x-python",
   "name": "python",
   "nbconvert_exporter": "python",
   "pygments_lexer": "ipython2",
   "version": "2.7.6"
  }
 },
 "nbformat": 4,
 "nbformat_minor": 5
}
