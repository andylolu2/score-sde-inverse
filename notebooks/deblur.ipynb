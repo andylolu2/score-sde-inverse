{
 "cells": [
  {
   "cell_type": "code",
   "execution_count": null,
   "metadata": {},
   "outputs": [],
   "source": [
    "%load_ext autoreload\n",
    "%autoreload 2"
   ]
  },
  {
   "cell_type": "code",
   "execution_count": null,
   "metadata": {},
   "outputs": [],
   "source": [
    "import os\n",
    "\n",
    "os.chdir(\"..\")\n",
    "print(\"New Working Directory \", os.getcwd())"
   ]
  },
  {
   "cell_type": "code",
   "execution_count": null,
   "metadata": {},
   "outputs": [],
   "source": [
    "import torch\n",
    "\n",
    "# from configs.ve.cifar10_ncsnpp_deep_continuous import get_config\n",
    "from configs.ve.celebahq_256_ncsnpp_continuous import get_config\n",
    "from score_inverse.models.utils import create_model\n",
    "from score_inverse.models.ema import ExponentialMovingAverage\n",
    "\n",
    "# ckpt_path = \"checkpoints/ve/cifar10_ncsnpp_deep_continuous/checkpoint_12.pth\"\n",
    "ckpt_path = \"checkpoints/ve/celebahq_256_ncsnpp_continuous/checkpoint_48.pth\"\n",
    "\n",
    "config = get_config()\n",
    "config.model.num_scales = 100  # Number of discretisation steps\n",
    "config.eval.batch_size = 1  # Number of samples per generation\n",
    "\n",
    "loaded_state = torch.load(ckpt_path, map_location=config.device)\n",
    "\n",
    "score_model = create_model(config)\n",
    "# Still need to load the base model state since non-trainable params aren't covered by EMA\n",
    "score_model.load_state_dict(loaded_state[\"model\"], strict=False)\n",
    "\n",
    "# Replace trainable model params with EMA params\n",
    "ema = ExponentialMovingAverage(score_model.parameters(), decay=config.model.ema_rate)\n",
    "ema.load_state_dict(loaded_state[\"ema\"])\n",
    "ema.copy_to(score_model.parameters())"
   ]
  },
  {
   "cell_type": "code",
   "execution_count": null,
   "metadata": {},
   "outputs": [],
   "source": [
    "from PIL import Image\n",
    "import numpy as np\n",
    "\n",
    "\n",
    "def display_img(im, size):\n",
    "    display(im.resize(size, Image.NEAREST))\n",
    "\n",
    "\n",
    "def display_sample(sample, size=(128, 128)):\n",
    "    samples = np.clip(sample.permute(0, 2, 3, 1).cpu().numpy() * 255.0, 0, 255).astype(\n",
    "        np.uint8\n",
    "    )\n",
    "    if samples.shape[-1] == 1:\n",
    "        im = Image.fromarray(samples[0, :, :, 0])\n",
    "    else:\n",
    "        im = Image.fromarray(samples[0])\n",
    "\n",
    "    display_img(im, size)"
   ]
  },
  {
   "cell_type": "code",
   "execution_count": null,
   "metadata": {},
   "outputs": [],
   "source": [
    "from score_inverse.tasks.deblur import DeblurTask\n",
    "from score_inverse.datasets import CelebA, CIFAR10\n",
    "\n",
    "dataset = CelebA(img_size=config.data.image_size)\n",
    "inverse_task = DeblurTask(dataset.img_size, kernel_type=\"gaussian\", kernel_size=5).to(\n",
    "    config.device\n",
    ")"
   ]
  },
  {
   "cell_type": "code",
   "execution_count": null,
   "metadata": {},
   "outputs": [],
   "source": [
    "x = dataset[1]\n",
    "x = x[None, :]\n",
    "\n",
    "x = x.to(config.device)\n",
    "y = inverse_task.A(x)\n",
    "\n",
    "display_sample(x)\n",
    "display_sample(y)"
   ]
  },
  {
   "cell_type": "code",
   "execution_count": null,
   "metadata": {},
   "outputs": [],
   "source": [
    "from score_inverse.sde import get_sde\n",
    "from score_inverse.datasets.scalers import get_data_inverse_scaler, get_data_scaler\n",
    "from score_inverse.sampling import get_corrector, get_predictor\n",
    "from score_inverse.sampling.inverse import get_pc_inverse_solver\n",
    "\n",
    "scaler = get_data_scaler(config)\n",
    "\n",
    "inverse_scaler = get_data_inverse_scaler(config)\n",
    "sde, sampling_eps = get_sde(config)\n",
    "\n",
    "sampling_shape = (config.eval.batch_size, *dataset.img_size)\n",
    "predictor = get_predictor(config.sampling.predictor.lower())\n",
    "corrector = get_corrector(config.sampling.corrector.lower())\n",
    "sampling_fn = get_pc_inverse_solver(\n",
    "    sde=sde,\n",
    "    shape=sampling_shape,\n",
    "    predictor=predictor,\n",
    "    corrector=corrector,\n",
    "    inverse_scaler=inverse_scaler,\n",
    "    snr=config.sampling.snr,\n",
    "    n_steps=config.sampling.n_steps_each,\n",
    "    probability_flow=config.sampling.probability_flow,\n",
    "    continuous=config.training.continuous,\n",
    "    denoise=config.sampling.noise_removal,\n",
    "    eps=sampling_eps,\n",
    "    device=config.device,\n",
    "    inverse_task=inverse_task,\n",
    "    lambda_=0.1,\n",
    ")"
   ]
  },
  {
   "cell_type": "code",
   "execution_count": null,
   "metadata": {},
   "outputs": [],
   "source": [
    "# with torch.autocast(\"cuda\", torch.float16):\n",
    "sample, n = sampling_fn(score_model, y.to(config.device))"
   ]
  },
  {
   "cell_type": "code",
   "execution_count": null,
   "metadata": {},
   "outputs": [],
   "source": [
    "display_sample(y)\n",
    "display_sample(sample)\n",
    "display_sample(x)"
   ]
  },
  {
   "cell_type": "code",
   "execution_count": null,
   "metadata": {},
   "outputs": [],
   "source": []
  }
 ],
 "metadata": {
  "kernelspec": {
   "display_name": "Python 3 (ipykernel)",
   "language": "python",
   "name": "python3"
  },
  "language_info": {
   "codemirror_mode": {
    "name": "ipython",
    "version": 3
   },
   "file_extension": ".py",
   "mimetype": "text/x-python",
   "name": "python",
   "nbconvert_exporter": "python",
   "pygments_lexer": "ipython3",
   "version": "3.10.12"
  }
 },
 "nbformat": 4,
 "nbformat_minor": 2
}
