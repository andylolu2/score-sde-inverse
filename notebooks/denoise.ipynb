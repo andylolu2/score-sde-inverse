{
 "cells": [
  {
   "cell_type": "code",
   "execution_count": null,
   "metadata": {},
   "outputs": [],
   "source": [
    "%load_ext autoreload\n",
    "%autoreload 2"
   ]
  },
  {
   "cell_type": "code",
   "execution_count": null,
   "metadata": {},
   "outputs": [],
   "source": [
    "import torch\n",
    "\n",
    "from configs.ve.cifar10_ncsnpp_deep_continuous import get_config\n",
    "from score_inverse.models.utils import create_model\n",
    "from score_inverse.models.ema import ExponentialMovingAverage\n",
    "\n",
    "from score_inverse.sde import get_sde\n",
    "from score_inverse.datasets.scalers import get_data_inverse_scaler, get_data_scaler\n",
    "from score_inverse.sampling import get_corrector, get_predictor\n",
    "from score_inverse.sampling.inverse import get_pc_inverse_solver\n",
    "\n",
    "from score_inverse.tasks.denoise import DenoiseTask\n",
    "from score_inverse.datasets.cifar10 import CIFAR10\n",
    "\n",
    "from PIL import Image\n",
    "import numpy as np\n",
    "\n",
    "import os\n",
    "\n",
    "os.chdir(\"..\")\n",
    "print(\"New Working Directory \", os.getcwd())"
   ]
  },
  {
   "cell_type": "code",
   "execution_count": null,
   "outputs": [],
   "source": [
    "dataset = CIFAR10(train=False)"
   ],
   "metadata": {
    "collapsed": false
   }
  },
  {
   "cell_type": "code",
   "execution_count": null,
   "outputs": [],
   "source": [
    "config = get_config()\n",
    "config.model.num_scales = 100  # Number of discretisation steps\n",
    "config.eval.batch_size = 4  # Number of samples per generation\n",
    "\n",
    "inverse_task = DenoiseTask((3, 32, 32), noise_type='shot', severity=1).to(config.device)\n",
    "\n",
    "ckpt_path = \"checkpoints/ve/cifar10_ncsnpp_deep_continuous/checkpoint_12.pth\"\n",
    "loaded_state = torch.load(ckpt_path, map_location=config.device)\n",
    "\n",
    "score_model = create_model(config)\n",
    "# Still need to load the base model state since non-trainable params aren't covered by EMA\n",
    "score_model.load_state_dict(loaded_state[\"model\"], strict=False)\n",
    "\n",
    "# Replace trainable model params with EMA params\n",
    "ema = ExponentialMovingAverage(score_model.parameters(), decay=config.model.ema_rate)\n",
    "ema.load_state_dict(loaded_state[\"ema\"])\n",
    "ema.copy_to(score_model.parameters())"
   ],
   "metadata": {
    "collapsed": false
   }
  },
  {
   "cell_type": "code",
   "execution_count": null,
   "metadata": {},
   "outputs": [],
   "source": [
    "def display_img(im, scale=10):\n",
    "    w, h = im.size\n",
    "    display(im.resize((scale * w, scale * h), Image.NEAREST))\n",
    "\n",
    "\n",
    "def display_sample(sample, scale=10, shape=None):\n",
    "    samples = np.clip(sample.permute(0, 2, 3, 1).cpu().numpy() * 255.0, 0, 255).astype(\n",
    "        np.uint8\n",
    "    )\n",
    "    if shape is None:\n",
    "        shape = (\n",
    "            -1,\n",
    "            config.data.image_size,\n",
    "            config.data.image_size,\n",
    "            config.data.num_channels,\n",
    "        )\n",
    "    samples = samples.reshape(shape)\n",
    "    im = Image.fromarray(samples[0])\n",
    "    display_img(im, scale)"
   ]
  },
  {
   "cell_type": "code",
   "execution_count": null,
   "metadata": {},
   "outputs": [],
   "source": [
    "x = dataset[13]\n",
    "x = x[None, :].to(config.device)\n",
    "\n",
    "y = inverse_task.forward(x)\n",
    "\n",
    "display_sample(x)\n",
    "display_sample(y)"
   ]
  },
  {
   "cell_type": "code",
   "execution_count": null,
   "metadata": {},
   "outputs": [],
   "source": [
    "scaler = get_data_scaler(config)\n",
    "\n",
    "inverse_scaler = get_data_inverse_scaler(config)\n",
    "sde, sampling_eps = get_sde(config)\n",
    "\n",
    "sampling_shape = (\n",
    "    config.eval.batch_size,\n",
    "    config.data.num_channels,\n",
    "    config.data.image_size,\n",
    "    config.data.image_size,\n",
    ")\n",
    "predictor = get_predictor(config.sampling.predictor.lower())\n",
    "corrector = get_corrector(config.sampling.corrector.lower())\n",
    "sampling_fn = get_pc_inverse_solver(\n",
    "    sde=sde,\n",
    "    shape=sampling_shape,\n",
    "    predictor=predictor,\n",
    "    corrector=corrector,\n",
    "    inverse_scaler=inverse_scaler,\n",
    "    snr=config.sampling.snr,\n",
    "    n_steps=config.sampling.n_steps_each,\n",
    "    probability_flow=config.sampling.probability_flow,\n",
    "    continuous=config.training.continuous,\n",
    "    denoise=config.sampling.noise_removal,\n",
    "    eps=sampling_eps,\n",
    "    device=config.device,\n",
    "    inverse_task=inverse_task,\n",
    "    lambda_=0.05,\n",
    ")"
   ]
  },
  {
   "cell_type": "code",
   "execution_count": null,
   "metadata": {},
   "outputs": [],
   "source": [
    "sample, n = sampling_fn(score_model, y.to(config.device))"
   ]
  },
  {
   "cell_type": "code",
   "execution_count": null,
   "metadata": {},
   "outputs": [],
   "source": [
    "display_sample(y)\n",
    "display_sample(sample)\n",
    "display_sample(x)"
   ]
  },
  {
   "cell_type": "code",
   "execution_count": null,
   "outputs": [],
   "source": [
    "class InverseSolverSampler:\n",
    "    def __init__(self, inverse_task, score_model, config, batch_size=100, lambda_=0.01):\n",
    "        self.inverse_task = inverse_task\n",
    "        self.score_model = score_model\n",
    "        self.config = config\n",
    "        self.batch_size = batch_size\n",
    "        self.lambda_ = lambda_\n",
    "        \n",
    "        self.predictor = get_predictor(config.sampling.predictor.lower())\n",
    "        self.corrector = get_corrector(config.sampling.corrector.lower())\n",
    "        \n",
    "        self.inverse_scaler = get_data_inverse_scaler(config)\n",
    "\n",
    "        self.sde, self.sampling_eps = get_sde(config)\n",
    "\n",
    "        self.sampling_shape = (\n",
    "            batch_size,\n",
    "            config.data.num_channels,\n",
    "            config.data.image_size,\n",
    "            config.data.image_size,\n",
    "        )\n",
    "\n",
    "    def fit(self, *_):\n",
    "        return self\n",
    "\n",
    "    def predict(self, X):\n",
    "        sampling_fn = get_pc_inverse_solver(\n",
    "            sde=self.sde,\n",
    "            shape=self.sampling_shape,\n",
    "            predictor=self.predictor,\n",
    "            corrector=self.corrector,\n",
    "            inverse_scaler=self.inverse_scaler,\n",
    "            snr=self.config.sampling.snr,\n",
    "            n_steps=self.config.sampling.n_steps_each,\n",
    "            probability_flow=self.config.sampling.probability_flow,\n",
    "            continuous=self.config.training.continuous,\n",
    "            denoise=self.config.sampling.noise_removal,\n",
    "            eps=self.sampling_eps,\n",
    "            device=self.config.device,\n",
    "            inverse_task=self.inverse_task,\n",
    "            lambda_=self.lambda_,\n",
    "        )\n",
    "        \n",
    "        samples = []\n",
    "        \n",
    "        for i in range(len(X)//self.batch_size):\n",
    "            y = inverse_task.forward(X[i*self.batch_size:(i+1)*self.batch_size].to(self.config.device))\n",
    "            sample, _ = sampling_fn(self.score_model, y)\n",
    "            samples.append(sample.detach().cpu())\n",
    "        \n",
    "        samples = torch.cat(samples)\n",
    "        \n",
    "        torch.cuda.empty_cache()\n",
    "        return samples\n",
    "\n",
    "    def get_params(self, deep=False):\n",
    "        return dict(inverse_task = self.inverse_task, \n",
    "                    score_model = self.score_model, \n",
    "                    config = self.config,\n",
    "                    batch_size = self.batch_size,\n",
    "                    lambda_ = self.lambda_)\n",
    "\n",
    "    def set_params(self, **parameters):\n",
    "        for parameter, value in parameters.items():\n",
    "            setattr(self, parameter, value)\n",
    "        return self"
   ],
   "metadata": {
    "collapsed": false
   }
  },
  {
   "cell_type": "code",
   "execution_count": null,
   "outputs": [],
   "source": [
    "from sklearn.model_selection import GridSearchCV\n",
    "from torchmetrics.image import StructuralSimilarityIndexMeasure\n",
    "from torchmetrics.image import PeakSignalNoiseRatio\n",
    "from sklearn.metrics import make_scorer\n",
    "import dill\n",
    "from pathlib import Path\n",
    "\n",
    "ssim = StructuralSimilarityIndexMeasure(data_range=(0,1))\n",
    "ssim.__name__ = 'StructuralSimilarityIndexMeasure'\n",
    "psnr = PeakSignalNoiseRatio(data_range=(0,1))\n",
    "psnr.__name__ = 'PeakSignalNoiseRatio'\n",
    "\n",
    "batch_size = 10\n",
    "cv = 5\n",
    "total_samples = 100\n",
    "lambda_range = np.arange(0.01, 0.055, 0.005)\n",
    "\n",
    "search_data = torch.stack([dataset[ind] for ind in range(total_samples)]) # note: this is on CPU to save memory\n",
    "\n",
    "results = {}\n",
    "\n",
    "print('Attempting to load gridsearch data...')\n",
    "for noise_type in ['gaussian', 'shot']:\n",
    "    save_path = f'logs/gridsearch/{noise_type}' \n",
    "    results[noise_type] = {}\n",
    "    Path(save_path).mkdir(parents=True, exist_ok=True)\n",
    "    for severity in range(1,6):\n",
    "        try: \n",
    "            severity_results = dill.load(open(f'{save_path}/{severity}.pkl', 'rb'))\n",
    "            print(f'Successfully loaded data for {noise_type} noise with severity={severity}')\n",
    "            results[noise_type][severity] = severity_results\n",
    "        except FileNotFoundError:\n",
    "            print(f'Data not found for {noise_type} noise with severity={severity}. Running gridsearch...')\n",
    "            \n",
    "            inverse_task = DenoiseTask((3, 32, 32), noise_type=noise_type, severity=severity).to(config.device)\n",
    "            \n",
    "            sampler = InverseSolverSampler(inverse_task, score_model, config, batch_size=batch_size)\n",
    "            \n",
    "            gscv = GridSearchCV(sampler, dict(lambda_=lambda_range), scoring={'ssim': make_scorer(ssim), 'psnr': make_scorer(psnr)}, error_score='raise', verbose=4, cv=cv, refit=False, n_jobs=2)\n",
    "\n",
    "            results[noise_type][severity] = gscv.fit(X=search_data, y=search_data).cv_results_\n",
    "    \n",
    "            print(f'Saving results for {noise_type} noise with severity={severity}\\n')\n",
    "            dill.dump(results[noise_type][severity], open(f'{save_path}/{severity}.pkl', 'wb'))\n",
    "            \n",
    "            torch.cuda.empty_cache()    "
   ],
   "metadata": {
    "collapsed": false
   }
  },
  {
   "cell_type": "code",
   "execution_count": null,
   "outputs": [],
   "source": [
    "for noise_type, severity_results in results.items():\n",
    "    print(noise_type, 'noise')\n",
    "    for severity, gscv_results in severity_results.items():\n",
    "        print(f'severity = {severity}, best lambda = {gscv_results[\"param_lambda_\"][gscv_results[\"mean_test_ssim\"].argmax()]}')\n",
    "    print()"
   ],
   "metadata": {
    "collapsed": false
   }
  },
  {
   "cell_type": "code",
   "execution_count": null,
   "outputs": [],
   "source": [
    "# Shut down the kernel to release resources\n",
    "# Note: depending on jupyter version, this may need to change to `from jupyter_server import serverapp\n",
    "from notebook import notebookapp\n",
    "port_list = [note[\"port\"] for note in notebookapp.list_running_servers()]\n",
    "\n",
    "print(port_list)\n",
    "\n",
    "for port in port_list:\n",
    "    !jupyter notebook stop {port}"
   ],
   "metadata": {
    "collapsed": false
   }
  }
 ],
 "metadata": {
  "kernelspec": {
   "display_name": "Python 3 (ipykernel)",
   "language": "python",
   "name": "python3"
  },
  "language_info": {
   "codemirror_mode": {
    "name": "ipython",
    "version": 3
   },
   "file_extension": ".py",
   "mimetype": "text/x-python",
   "name": "python",
   "nbconvert_exporter": "python",
   "pygments_lexer": "ipython3",
   "version": "3.10.12"
  }
 },
 "nbformat": 4,
 "nbformat_minor": 2
}
