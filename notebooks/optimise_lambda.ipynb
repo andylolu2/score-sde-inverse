{
 "cells": [
  {
   "cell_type": "code",
   "execution_count": null,
   "outputs": [],
   "source": [
    "!python scripts/optimise_lambda.py"
   ],
   "metadata": {
    "collapsed": false
   },
   "id": "6fdd8bb6fe9bf8b7"
  },
  {
   "cell_type": "code",
   "execution_count": null,
   "id": "initial_id",
   "metadata": {
    "collapsed": true
   },
   "outputs": [],
   "source": [
    "import pandas as pd\n",
    "\n",
    "import matplotlib.pyplot as plt\n",
    "df = pd.read_csv('optimization_results.csv')\n",
    "\n",
    "\n",
    "# Plotting\n",
    "plt.figure(figsize=(10, 6))\n",
    "plt.plot(df['lambda'], df['psnr'], marker='o', color='b', label='PSNR')\n",
    "plt.title('PSNR vs. Lambda')\n",
    "plt.xlabel('Lambda')\n",
    "plt.ylabel('PSNR')\n",
    "plt.grid(True)\n",
    "plt.legend()\n",
    "plt.show()\n",
    "\n",
    "# Plotting the convergence\n",
    "plt.figure(figsize=(10, 6))\n",
    "plt.plot(df['iteration'], df['psnr'], marker='o', color='b')\n",
    "plt.title('Convergence Plot: PSNR over Iterations')\n",
    "plt.xlabel('Iteration')\n",
    "plt.ylabel('PSNR')\n",
    "plt.grid(True)\n",
    "\n",
    "# Histogram of PSNR values\n",
    "plt.figure(figsize=(10, 6))\n",
    "plt.hist(df['psnr'], bins=20, color='skyblue', edgecolor='black')\n",
    "plt.title('Histogram of PSNR Values')\n",
    "plt.xlabel('PSNR')\n",
    "plt.ylabel('Frequency')\n",
    "plt.grid(axis='y')\n",
    "plt.show()\n"
   ]
  }
 ],
 "metadata": {
  "kernelspec": {
   "display_name": "Python 3",
   "language": "python",
   "name": "python3"
  },
  "language_info": {
   "codemirror_mode": {
    "name": "ipython",
    "version": 2
   },
   "file_extension": ".py",
   "mimetype": "text/x-python",
   "name": "python",
   "nbconvert_exporter": "python",
   "pygments_lexer": "ipython2",
   "version": "2.7.6"
  }
 },
 "nbformat": 4,
 "nbformat_minor": 5
}
